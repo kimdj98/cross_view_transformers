{
 "cells": [
  {
   "cell_type": "code",
   "execution_count": 1,
   "metadata": {},
   "outputs": [
    {
     "name": "stdout",
     "output_type": "stream",
     "text": [
      "['experiment', 'loader', 'optimizer', 'scheduler', 'trainer', 'data', 'loss', 'metrics']\n"
     ]
    }
   ],
   "source": [
    "from hydra import core, initialize, compose\n",
    "from omegaconf import OmegaConf\n",
    "\n",
    "\n",
    "# CHANGE ME\n",
    "DATASET_DIR = '/mnt/4TB1/dataset/nuscenes'\n",
    "LABELS_DIR = '/mnt/4TB1/dataset/cvt_labels_nuscenes_v5'\n",
    "\n",
    "\n",
    "core.global_hydra.GlobalHydra.instance().clear()        # required for Hydra in notebooks\n",
    "\n",
    "initialize(config_path='../config')\n",
    "\n",
    "# Add additional command line overrides\n",
    "cfg = compose(\n",
    "    config_name='config',\n",
    "    overrides=[\n",
    "        'experiment.save_dir=../logs/',                 # required for Hydra in notebooks\n",
    "        'data=nuscenes',\n",
    "        f'data.dataset_dir={DATASET_DIR}',\n",
    "        f'data.labels_dir={LABELS_DIR}',\n",
    "        'data.version=v1.0-trainval',\n",
    "        'loader.batch_size=1',\n",
    "    ]\n",
    ")\n",
    "\n",
    "# resolve config references\n",
    "OmegaConf.resolve(cfg)\n",
    "\n",
    "print(list(cfg.keys()))"
   ]
  },
  {
   "cell_type": "code",
   "execution_count": 2,
   "metadata": {},
   "outputs": [],
   "source": [
    "import os\n",
    "os.chdir('../')"
   ]
  },
  {
   "cell_type": "code",
   "execution_count": 3,
   "metadata": {},
   "outputs": [
    {
     "name": "stdout",
     "output_type": "stream",
     "text": [
      "16\n"
     ]
    }
   ],
   "source": [
    "import torch\n",
    "import numpy as np\n",
    "\n",
    "from cross_view_transformer.common import setup_data_module\n",
    "\n",
    "\n",
    "# Additional splits can be added to cross_view_transformer/data/splits/nuscenes/\n",
    "SPLIT = 'val_qualitative_000'\n",
    "SUBSAMPLE = 10\n",
    "\n",
    "\n",
    "data = setup_data_module(cfg)\n",
    "\n",
    "dataset = data.get_split(SPLIT, loader=False)\n",
    "dataset = torch.utils.data.ConcatDataset(dataset)\n",
    "dataset = torch.utils.data.Subset(dataset, range(0, len(dataset), SUBSAMPLE))\n",
    "\n",
    "loader = torch.utils.data.DataLoader(dataset, batch_size=1, shuffle=False, num_workers=2)\n",
    "\n",
    "print(len(dataset))"
   ]
  },
  {
   "cell_type": "code",
   "execution_count": 4,
   "metadata": {},
   "outputs": [
    {
     "name": "stdout",
     "output_type": "stream",
     "text": [
      "--2023-08-27 19:25:39--  https://www.cs.utexas.edu/~bzhou/cvt/cvt_nuscenes_vehicles_50k.ckpt\n",
      "Resolving www.cs.utexas.edu (www.cs.utexas.edu)... 128.83.120.48\n",
      "Connecting to www.cs.utexas.edu (www.cs.utexas.edu)|128.83.120.48|:443... connected.\n",
      "HTTP request sent, awaiting response... 200 OK\n",
      "Length: 13407137 (13M)\n",
      "Saving to: ‘./logs/cvt_nuscenes_vehicles_50k.ckpt’\n",
      "\n",
      "./logs/cvt_nuscenes 100%[===================>]  12.79M  5.80MB/s    in 2.2s    \n",
      "\n",
      "2023-08-27 19:25:42 (5.80 MB/s) - ‘./logs/cvt_nuscenes_vehicles_50k.ckpt’ saved [13407137/13407137]\n",
      "\n",
      "--2023-08-27 19:25:43--  https://www.cs.utexas.edu/~bzhou/cvt/cvt_nuscenes_road_75k.ckpt\n",
      "Resolving www.cs.utexas.edu (www.cs.utexas.edu)... 128.83.120.48\n",
      "Connecting to www.cs.utexas.edu (www.cs.utexas.edu)|128.83.120.48|:443... connected.\n",
      "HTTP request sent, awaiting response... 200 OK\n",
      "Length: 13402145 (13M)\n",
      "Saving to: ‘./logs/cvt_nuscenes_road_75k.ckpt’\n",
      "\n",
      "./logs/cvt_nuscenes 100%[===================>]  12.78M  5.86MB/s    in 2.2s    \n",
      "\n",
      "2023-08-27 19:25:46 (5.86 MB/s) - ‘./logs/cvt_nuscenes_road_75k.ckpt’ saved [13402145/13402145]\n",
      "\n",
      "Loaded pretrained weights for efficientnet-b4\n",
      "Loaded pretrained weights for efficientnet-b4\n"
     ]
    }
   ],
   "source": [
    "from pathlib import Path\n",
    "\n",
    "from cross_view_transformer.common import load_backbone\n",
    "\n",
    "\n",
    "# Download a pretrained model (13 Mb)\n",
    "# VEHICLE_MODEL_URL = 'https://www.cs.utexas.edu/~bzhou/cvt/cvt_nuscenes_vehicles_50k.ckpt'\n",
    "# VEHICLE_CHECKPOINT_PATH = './logs/cvt_nuscenes_vehicles_50k.ckpt'\n",
    "\n",
    "# ROAD_MODEL_URL = 'https://www.cs.utexas.edu/~bzhou/cvt/cvt_nuscenes_road_75k.ckpt'\n",
    "# ROAD_CHECKPOINT_PATH = './logs/cvt_nuscenes_road_75k.ckpt'\n",
    "\n",
    "!mkdir -p $(dirname ${VEHICLE_CHECKPOINT_PATH})\n",
    "!wget $VEHICLE_MODEL_URL -O $VEHICLE_CHECKPOINT_PATH\n",
    "!wget $ROAD_MODEL_URL -O $ROAD_CHECKPOINT_PATH\n",
    "\n",
    "\n",
    "vehicle_network = load_backbone(VEHICLE_CHECKPOINT_PATH)\n",
    "road_network = load_backbone(ROAD_CHECKPOINT_PATH)"
   ]
  },
  {
   "cell_type": "code",
   "execution_count": 5,
   "metadata": {},
   "outputs": [
    {
     "data": {
      "application/vnd.jupyter.widget-view+json": {
       "model_id": "df98e1add587469ba48ab30ffecacb18",
       "version_major": 2,
       "version_minor": 0
      },
      "text/plain": [
       "HTML(value='\\n<div align=\"center\">\\n<img src=\"./predictions.gif?modified=1693131954.4100952\" width=\"80%\">\\n</d…"
      ]
     },
     "metadata": {},
     "output_type": "display_data"
    }
   ],
   "source": [
    "%load_ext autoreload\n",
    "%autoreload 2\n",
    "\n",
    "import torch\n",
    "import time\n",
    "import imageio\n",
    "import ipywidgets as widgets\n",
    "\n",
    "from cross_view_transformer.visualizations.nuscenes_stitch_viz import NuScenesStitchViz\n",
    "\n",
    "\n",
    "GIF_PATH = './predictions.gif'\n",
    "\n",
    "# Show more confident predictions, note that if show_images is True, GIF quality with be degraded.\n",
    "viz = NuScenesStitchViz(vehicle_threshold=0.6, road_threshold=0.6, show_images=False)\n",
    "\n",
    "device = torch.device('cuda' if torch.cuda.is_available() else 'cpu')\n",
    "\n",
    "vehicle_network.to(device)\n",
    "vehicle_network.eval()\n",
    "\n",
    "road_network.to(device)\n",
    "road_network.eval()\n",
    "\n",
    "images = list()\n",
    "\n",
    "with torch.no_grad():\n",
    "    for batch in loader:\n",
    "        batch = {k: v.to(device) if isinstance(v, torch.Tensor) else v for k, v in batch.items()}\n",
    "\n",
    "        vehicle_pred = vehicle_network(batch)['bev']\n",
    "        road_pred = road_network(batch)['bev']\n",
    "\n",
    "        visualization = np.vstack(viz(batch, road_pred, vehicle_pred))\n",
    "\n",
    "        images.append(visualization)\n",
    "\n",
    "\n",
    "# Save a gif\n",
    "duration = [0.5 for _ in images[:-1]] + [2 for _ in images[-1:]]\n",
    "imageio.mimsave(GIF_PATH, images, duration=duration)\n",
    "\n",
    "html = f'''\n",
    "<div align=\"center\">\n",
    "<img src=\"{GIF_PATH}?modified={time.time()}\" width=\"80%\">\n",
    "</div>\n",
    "'''\n",
    "\n",
    "display(widgets.HTML(html))"
   ]
  },
  {
   "cell_type": "code",
   "execution_count": null,
   "metadata": {},
   "outputs": [],
   "source": []
  }
 ],
 "metadata": {
  "interpreter": {
   "hash": "b5f5dfcf6d7848e0c3dac37df27b69d0d5f79a0c0f03f8729db3afb13fab9666"
  },
  "kernelspec": {
   "display_name": "Python 3 (ipykernel)",
   "language": "python",
   "name": "python3"
  },
  "language_info": {
   "codemirror_mode": {
    "name": "ipython",
    "version": 3
   },
   "file_extension": ".py",
   "mimetype": "text/x-python",
   "name": "python",
   "nbconvert_exporter": "python",
   "pygments_lexer": "ipython3",
   "version": "3.8.17"
  }
 },
 "nbformat": 4,
 "nbformat_minor": 4
}
